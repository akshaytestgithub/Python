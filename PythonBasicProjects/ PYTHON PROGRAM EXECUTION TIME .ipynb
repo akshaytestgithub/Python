{
 "cells": [
  {
   "cell_type": "code",
   "execution_count": 2,
   "id": "a10e2234",
   "metadata": {},
   "outputs": [],
   "source": [
    "# How to get time of a python program's execution?"
   ]
  },
  {
   "cell_type": "code",
   "execution_count": 7,
   "id": "c4ffa330",
   "metadata": {},
   "outputs": [
    {
     "name": "stdout",
     "output_type": "stream",
     "text": [
      "<function my_fun at 0x00000156AF832940>\n"
     ]
    }
   ],
   "source": [
    "import time\n",
    "def my_fun(a,b):\n",
    "    start_time = time.time()\n",
    "    s = 0\n",
    "    \n",
    "    if i in range(n+1):\n",
    "        s = s + 1\n",
    "        \n",
    "    end_time = time.time()\n",
    "    \n",
    "    s = n\n",
    "    t = a + b\n",
    "\n",
    "print(my_fun)\n",
    "   "
   ]
  },
  {
   "cell_type": "code",
   "execution_count": null,
   "id": "40c2131b",
   "metadata": {},
   "outputs": [],
   "source": []
  }
 ],
 "metadata": {
  "kernelspec": {
   "display_name": "Python 3 (ipykernel)",
   "language": "python",
   "name": "python3"
  },
  "language_info": {
   "codemirror_mode": {
    "name": "ipython",
    "version": 3
   },
   "file_extension": ".py",
   "mimetype": "text/x-python",
   "name": "python",
   "nbconvert_exporter": "python",
   "pygments_lexer": "ipython3",
   "version": "3.9.7"
  }
 },
 "nbformat": 4,
 "nbformat_minor": 5
}

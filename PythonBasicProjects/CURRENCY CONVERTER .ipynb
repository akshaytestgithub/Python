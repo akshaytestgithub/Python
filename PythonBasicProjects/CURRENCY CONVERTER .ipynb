{
 "cells": [
  {
   "cell_type": "code",
   "execution_count": 1,
   "id": "ea95f32f",
   "metadata": {},
   "outputs": [
    {
     "name": "stdout",
     "output_type": "stream",
     "text": [
      "This program converts us dollars to rupees\n",
      "Enter amount in dollars25\n",
      "This is  2039.2499999999998 rupees\n"
     ]
    }
   ],
   "source": [
    "def main():\n",
    "    print('This program converts us dollars to rupees')\n",
    "\n",
    "\n",
    "    dollars = eval(input(\"Enter amount in dollars\"))\n",
    "\n",
    "    rupees = convert_to_rupees(dollars)\n",
    "\n",
    "    print(\"This is \", rupees, \"rupees\")\n",
    "\n",
    "convert_to_rupees = lambda dollars: dollars * 81.57\n",
    "\n",
    "main()"
   ]
  },
  {
   "cell_type": "code",
   "execution_count": null,
   "id": "2058921b",
   "metadata": {},
   "outputs": [],
   "source": []
  }
 ],
 "metadata": {
  "kernelspec": {
   "display_name": "Python 3 (ipykernel)",
   "language": "python",
   "name": "python3"
  },
  "language_info": {
   "codemirror_mode": {
    "name": "ipython",
    "version": 3
   },
   "file_extension": ".py",
   "mimetype": "text/x-python",
   "name": "python",
   "nbconvert_exporter": "python",
   "pygments_lexer": "ipython3",
   "version": "3.9.7"
  }
 },
 "nbformat": 4,
 "nbformat_minor": 5
}

{
 "cells": [
  {
   "cell_type": "markdown",
   "id": "af8dd584",
   "metadata": {},
   "source": [
    "# Basic information about Binary Search"
   ]
  },
  {
   "cell_type": "code",
   "execution_count": null,
   "id": "8830a657",
   "metadata": {},
   "outputs": [],
   "source": [
    "# What is  binary search ?\n",
    "# Binary search is an efficient algorithm for finding an item from a sorted list of items. It works by repeatedly \n",
    "# dividing in half the portion of the list that could contain the item, until you've narrowed down the possible locations \n",
    "# to just one.\n",
    "\n",
    "# one of the main advantages of a binary search is that it is much quicker than a serial search.\n",
    "\n",
    "# What is difference between linear and binary search?\n",
    "# Linear search is an algorithm to find an element in a list by sequentially checking the elements of the list until\n",
    "# finding the matching element. Binary search is an algorithm that finds the position of a target value within a\n",
    "# sorted array. Thus, this is the main difference between linear search and binary search."
   ]
  },
  {
   "cell_type": "markdown",
   "id": "bd8db38e",
   "metadata": {},
   "source": [
    "# Here the detailed vedio link about binary search : https://youtu.be/sr_bR1WwcLY"
   ]
  },
  {
   "cell_type": "code",
   "execution_count": 2,
   "id": "5c8fc0eb",
   "metadata": {},
   "outputs": [
    {
     "name": "stdout",
     "output_type": "stream",
     "text": [
      "step 0 : [1, 2, 3, 4, 5, 6, 7, 8, 9, 10, 11, 12]\n",
      "step 1 : [1, 2, 3, 4, 5, 6]\n"
     ]
    },
    {
     "data": {
      "text/plain": [
       "2"
      ]
     },
     "execution_count": 2,
     "metadata": {},
     "output_type": "execute_result"
    }
   ],
   "source": [
    "def binary_search(list, element):\n",
    "\n",
    "    start = 0\n",
    "    middle = 0\n",
    "    end = len(list)\n",
    "    steps = 0\n",
    "\n",
    "    while (start <= end):\n",
    "        print('step',steps, ':', str(list[start:end+1]))\n",
    "\n",
    "        steps = steps+1\n",
    "        middle = (start + end) // 2\n",
    "\n",
    "        if element == list[middle]:\n",
    "            return middle\n",
    "\n",
    "        if element < middle:\n",
    "            end = middle-1\n",
    "\n",
    "        else:\n",
    "            start = middle +1\n",
    "\n",
    "    return\n",
    "\n",
    "my_list = [1,2,3,4,5,6,7,8,9,10,11,12]\n",
    "target = 3\n",
    "\n",
    "binary_search(my_list, target)"
   ]
  },
  {
   "cell_type": "code",
   "execution_count": null,
   "id": "16f4582c",
   "metadata": {},
   "outputs": [],
   "source": []
  },
  {
   "cell_type": "code",
   "execution_count": 3,
   "id": "ccb5b0d2",
   "metadata": {},
   "outputs": [
    {
     "name": "stdout",
     "output_type": "stream",
     "text": [
      "step 0 : [1, 2, 3, 4, 5, 6, 7, 8, 9, 10, 11, 12]\n",
      "step 1 : [8, 9, 10, 11, 12]\n",
      "step 2 : [8, 9]\n"
     ]
    },
    {
     "data": {
      "text/plain": [
       "7"
      ]
     },
     "execution_count": 3,
     "metadata": {},
     "output_type": "execute_result"
    }
   ],
   "source": [
    "def binary_search(list, element):\n",
    "\n",
    "    start = 0\n",
    "    middle = 0\n",
    "    end = len(list)\n",
    "    steps = 0\n",
    "\n",
    "    while (start <= end):\n",
    "        print('step',steps, ':', str(list[start:end+1]))\n",
    "\n",
    "        steps = steps+1\n",
    "        middle = (start + end) // 2\n",
    "\n",
    "        if element == list[middle]:\n",
    "            return middle\n",
    "\n",
    "        if element < middle:\n",
    "            end = middle-1\n",
    "\n",
    "        else:\n",
    "            start = middle +1\n",
    "\n",
    "    return\n",
    "\n",
    "my_list = [1,2,3,4,5,6,7,8,9,10,11,12]\n",
    "target = 8\n",
    "\n",
    "binary_search(my_list, target)"
   ]
  },
  {
   "cell_type": "code",
   "execution_count": null,
   "id": "ad62587f",
   "metadata": {},
   "outputs": [],
   "source": []
  }
 ],
 "metadata": {
  "kernelspec": {
   "display_name": "Python 3 (ipykernel)",
   "language": "python",
   "name": "python3"
  },
  "language_info": {
   "codemirror_mode": {
    "name": "ipython",
    "version": 3
   },
   "file_extension": ".py",
   "mimetype": "text/x-python",
   "name": "python",
   "nbconvert_exporter": "python",
   "pygments_lexer": "ipython3",
   "version": "3.9.7"
  }
 },
 "nbformat": 4,
 "nbformat_minor": 5
}

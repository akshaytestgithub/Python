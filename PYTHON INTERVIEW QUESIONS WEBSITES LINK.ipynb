{
 "cells": [
  {
   "cell_type": "markdown",
   "id": "ec55d757",
   "metadata": {},
   "source": [
    "# https://www.javatpoint.com/python-interview-questions\n",
    "# https://www.javatpoint.com/python-coding-interview-questions\n",
    "\n",
    "\n",
    "# https://www.edureka.co/blog/interview-questions/python-interview-questions/\n",
    "\n",
    "# https://www.mygreatlearning.com/blog/python-interview-questions/\n",
    "\n",
    "# https://www.simplilearn.com/tutorials/python-tutorial/python-interview-questions\n",
    "\n",
    "# https://www.w3schools.com/python/python_reference.asp\n",
    "# https://www.w3schools.com/python/python_examples.asp\n",
    "\n"
   ]
  },
  {
   "cell_type": "code",
   "execution_count": null,
   "id": "0734a776",
   "metadata": {},
   "outputs": [],
   "source": []
  }
 ],
 "metadata": {
  "kernelspec": {
   "display_name": "Python 3 (ipykernel)",
   "language": "python",
   "name": "python3"
  },
  "language_info": {
   "codemirror_mode": {
    "name": "ipython",
    "version": 3
   },
   "file_extension": ".py",
   "mimetype": "text/x-python",
   "name": "python",
   "nbconvert_exporter": "python",
   "pygments_lexer": "ipython3",
   "version": "3.9.7"
  }
 },
 "nbformat": 4,
 "nbformat_minor": 5
}
